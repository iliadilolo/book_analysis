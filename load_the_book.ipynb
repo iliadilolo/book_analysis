{
 "cells": [
  {
   "cell_type": "markdown",
   "id": "65e47fed-ea3b-4acf-a095-df0e54c21839",
   "metadata": {},
   "source": [
    "# Load the book\n"
   ]
  },
  {
   "cell_type": "code",
   "execution_count": 3,
   "id": "be05652e-6369-4470-ad63-e61dc8ac2890",
   "metadata": {},
   "outputs": [],
   "source": [
    "with open('book.txt', 'r') as file:\n",
    "    book = file.read()"
   ]
  },
  {
   "cell_type": "markdown",
   "id": "15803b9f-4492-4aea-991d-ced80cd9662d",
   "metadata": {},
   "source": [
    "# 'love' paragraphs"
   ]
  },
  {
   "cell_type": "code",
   "execution_count": 4,
   "id": "ebcce6e1-711b-488c-bda2-ee9af6a28afe",
   "metadata": {},
   "outputs": [
    {
     "data": {
      "text/plain": [
       "60"
      ]
     },
     "execution_count": 4,
     "metadata": {},
     "output_type": "execute_result"
    }
   ],
   "source": [
    "import re\n",
    "pattern = re.compile('[^\\n]+love[^\\n]+')\n",
    "findings = re.findall(pattern, book)\n",
    "len(findings)"
   ]
  },
  {
   "cell_type": "markdown",
   "id": "77b9f7f4-7e72-4597-9adb-72b604c87f76",
   "metadata": {},
   "source": [
    "# chapter titles"
   ]
  },
  {
   "cell_type": "code",
   "execution_count": 5,
   "id": "b95a65ff-2ea2-4376-b5d3-950c26576836",
   "metadata": {},
   "outputs": [
    {
     "data": {
      "text/plain": [
       "['Before',\n",
       " 'Everything Precious',\n",
       " 'A Promise',\n",
       " 'Breathe Once More',\n",
       " 'Abandoned',\n",
       " 'Tomb',\n",
       " 'East',\n",
       " 'The Opposite of Death',\n",
       " 'I See a Man',\n",
       " 'After']"
      ]
     },
     "execution_count": 5,
     "metadata": {},
     "output_type": "execute_result"
    }
   ],
   "source": [
    "import re\n",
    "pattern = re.compile('([a-zA-Z ]+)\\n\\n')\n",
    "findings = re.findall(pattern, book)\n",
    "findings"
   ]
  },
  {
   "cell_type": "markdown",
   "id": "4815997f-6f43-4d1b-b9ba-c105033f679c",
   "metadata": {},
   "source": []
  }
 ],
 "metadata": {
  "kernelspec": {
   "display_name": "Python 3 (ipykernel)",
   "language": "python",
   "name": "python3"
  },
  "language_info": {
   "codemirror_mode": {
    "name": "ipython",
    "version": 3
   },
   "file_extension": ".py",
   "mimetype": "text/x-python",
   "name": "python",
   "nbconvert_exporter": "python",
   "pygments_lexer": "ipython3",
   "version": "3.11.3"
  }
 },
 "nbformat": 4,
 "nbformat_minor": 5
}
